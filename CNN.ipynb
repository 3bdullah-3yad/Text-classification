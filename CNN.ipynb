{
 "cells": [
  {
   "cell_type": "markdown",
   "id": "4f4e4ecc",
   "metadata": {},
   "source": [
    "# <span style=\"color:red\">@@@@@@@@@@@@ Ayad @@@@@@@@@@@@</span>"
   ]
  },
  {
   "cell_type": "markdown",
   "id": "145012e1",
   "metadata": {},
   "source": [
    "# <span style=\"color:chocolate\">=== 1- Data ===</span>"
   ]
  },
  {
   "cell_type": "code",
   "execution_count": 1,
   "id": "4015e212",
   "metadata": {},
   "outputs": [],
   "source": [
    "from keras.datasets import imdb\n",
    "\n",
    "(X_train, y_train), (X_test, y_test) = imdb.load_data(num_words=7000)"
   ]
  },
  {
   "cell_type": "code",
   "execution_count": 2,
   "id": "309fe846",
   "metadata": {},
   "outputs": [
    {
     "name": "stdout",
     "output_type": "stream",
     "text": [
      "Shape of training data: \n",
      "(25000,)\n",
      "(25000,)\n",
      "\n",
      "Shape of test data: \n",
      "(25000,)\n",
      "(25000,)\n"
     ]
    }
   ],
   "source": [
    "print('Shape of training data: ')\n",
    "print(X_train.shape)\n",
    "print(y_train.shape)\n",
    "print('\\nShape of test data: ')\n",
    "print(X_test.shape)\n",
    "print(y_test.shape)"
   ]
  },
  {
   "cell_type": "code",
   "execution_count": 3,
   "id": "ba8e5fe2",
   "metadata": {},
   "outputs": [
    {
     "name": "stdout",
     "output_type": "stream",
     "text": [
      "[1, 14, 22, 16, 43, 530, 973, 1622, 1385, 65, 458, 4468, 66, 3941, 4, 173, 36, 256, 5, 25, 100, 43, 838, 112, 50, 670, 2, 9, 35, 480, 284, 5, 150, 4, 172, 112, 167, 2, 336, 385, 39, 4, 172, 4536, 1111, 17, 546, 38, 13, 447, 4, 192, 50, 16, 6, 147, 2025, 19, 14, 22, 4, 1920, 4613, 469, 4, 22, 71, 87, 12, 16, 43, 530, 38, 76, 15, 13, 1247, 4, 22, 17, 515, 17, 12, 16, 626, 18, 2, 5, 62, 386, 12, 8, 316, 8, 106, 5, 4, 2223, 5244, 16, 480, 66, 3785, 33, 4, 130, 12, 16, 38, 619, 5, 25, 124, 51, 36, 135, 48, 25, 1415, 33, 6, 22, 12, 215, 28, 77, 52, 5, 14, 407, 16, 82, 2, 8, 4, 107, 117, 5952, 15, 256, 4, 2, 7, 3766, 5, 723, 36, 71, 43, 530, 476, 26, 400, 317, 46, 7, 4, 2, 1029, 13, 104, 88, 4, 381, 15, 297, 98, 32, 2071, 56, 26, 141, 6, 194, 2, 18, 4, 226, 22, 21, 134, 476, 26, 480, 5, 144, 30, 5535, 18, 51, 36, 28, 224, 92, 25, 104, 4, 226, 65, 16, 38, 1334, 88, 12, 16, 283, 5, 16, 4472, 113, 103, 32, 15, 16, 5345, 19, 178, 32]\n",
      "\n",
      "1\n"
     ]
    }
   ],
   "source": [
    "print(X_train[0])\n",
    "print()\n",
    "print(y_train[0])"
   ]
  },
  {
   "cell_type": "code",
   "execution_count": 4,
   "id": "99cd47c0",
   "metadata": {},
   "outputs": [
    {
     "data": {
      "text/plain": [
       "{0, 1}"
      ]
     },
     "execution_count": 4,
     "metadata": {},
     "output_type": "execute_result"
    }
   ],
   "source": [
    "set(list(y_train))"
   ]
  },
  {
   "cell_type": "markdown",
   "id": "79f12701",
   "metadata": {},
   "source": [
    "# <span style=\"color:chocolate\">=== 2- Training and Evaluation ===</span>"
   ]
  },
  {
   "cell_type": "code",
   "execution_count": 9,
   "id": "fa81b304",
   "metadata": {},
   "outputs": [
    {
     "data": {
      "text/plain": [
       "450.0"
      ]
     },
     "execution_count": 9,
     "metadata": {},
     "output_type": "execute_result"
    }
   ],
   "source": [
    "lens = []\n",
    "\n",
    "for sent in X_train:\n",
    "    lens.append(len(sent))\n",
    "    \n",
    "sum(lens)/len(lens)"
   ]
  },
  {
   "cell_type": "code",
   "execution_count": 5,
   "id": "96c8ff59",
   "metadata": {},
   "outputs": [],
   "source": [
    "from keras.preprocessing import sequence"
   ]
  },
  {
   "cell_type": "code",
   "execution_count": 6,
   "id": "cb210000",
   "metadata": {},
   "outputs": [],
   "source": [
    "X_train = sequence.pad_sequences(X_train, maxlen=450)\n",
    "X_test  = sequence.pad_sequences(X_test , maxlen=450)"
   ]
  },
  {
   "cell_type": "code",
   "execution_count": 10,
   "id": "76efa7fb",
   "metadata": {},
   "outputs": [
    {
     "data": {
      "text/plain": [
       "(25000, 450)"
      ]
     },
     "execution_count": 10,
     "metadata": {},
     "output_type": "execute_result"
    }
   ],
   "source": [
    "X_train.shape"
   ]
  },
  {
   "cell_type": "code",
   "execution_count": 11,
   "id": "7fd42938",
   "metadata": {},
   "outputs": [],
   "source": [
    "from keras.models import Sequential\n",
    "\n",
    "from keras.layers import Dense, Flatten\n",
    "\n",
    "from keras.layers.convolutional import Conv1D, MaxPooling1D\n",
    "\n",
    "from keras.layers.embeddings import Embedding"
   ]
  },
  {
   "cell_type": "code",
   "execution_count": 12,
   "id": "715b5daa",
   "metadata": {},
   "outputs": [],
   "source": [
    "model = Sequential()    \n",
    "\n",
    "model.add(Embedding(7000, 32, input_length=450))\n",
    "model.add(Conv1D(32, 3, padding='same', activation='relu'))\n",
    "model.add(MaxPooling1D())\n",
    "model.add(Flatten())\n",
    "model.add(Dense(250, activation='relu'))\n",
    "model.add(Dense(1, activation='sigmoid'))"
   ]
  },
  {
   "cell_type": "code",
   "execution_count": 13,
   "id": "07cf55f6",
   "metadata": {},
   "outputs": [
    {
     "name": "stdout",
     "output_type": "stream",
     "text": [
      "Model: \"sequential\"\n",
      "_________________________________________________________________\n",
      " Layer (type)                Output Shape              Param #   \n",
      "=================================================================\n",
      " embedding (Embedding)       (None, 450, 32)           224000    \n",
      "                                                                 \n",
      " conv1d (Conv1D)             (None, 450, 32)           3104      \n",
      "                                                                 \n",
      " max_pooling1d (MaxPooling1D  (None, 225, 32)          0         \n",
      " )                                                               \n",
      "                                                                 \n",
      " flatten (Flatten)           (None, 7200)              0         \n",
      "                                                                 \n",
      " dense (Dense)               (None, 250)               1800250   \n",
      "                                                                 \n",
      " dense_1 (Dense)             (None, 1)                 251       \n",
      "                                                                 \n",
      "=================================================================\n",
      "Total params: 2,027,605\n",
      "Trainable params: 2,027,605\n",
      "Non-trainable params: 0\n",
      "_________________________________________________________________\n"
     ]
    }
   ],
   "source": [
    "model.compile(loss='binary_crossentropy', optimizer='adam', metrics=['accuracy'])\n",
    "model.summary()"
   ]
  },
  {
   "cell_type": "code",
   "execution_count": 14,
   "id": "c19f4e38",
   "metadata": {},
   "outputs": [
    {
     "name": "stdout",
     "output_type": "stream",
     "text": [
      "Epoch 1/7\n",
      "196/196 - 15s - loss: 0.4356 - accuracy: 0.7655 - val_loss: 0.2888 - val_accuracy: 0.8792 - 15s/epoch - 74ms/step\n",
      "Epoch 2/7\n",
      "196/196 - 13s - loss: 0.2007 - accuracy: 0.9214 - val_loss: 0.2741 - val_accuracy: 0.8866 - 13s/epoch - 68ms/step\n",
      "Epoch 3/7\n",
      "196/196 - 14s - loss: 0.1309 - accuracy: 0.9533 - val_loss: 0.3046 - val_accuracy: 0.8825 - 14s/epoch - 69ms/step\n",
      "Epoch 4/7\n",
      "196/196 - 14s - loss: 0.0706 - accuracy: 0.9783 - val_loss: 0.3847 - val_accuracy: 0.8726 - 14s/epoch - 73ms/step\n",
      "Epoch 5/7\n",
      "196/196 - 14s - loss: 0.0317 - accuracy: 0.9926 - val_loss: 0.4764 - val_accuracy: 0.8704 - 14s/epoch - 73ms/step\n",
      "Epoch 6/7\n",
      "196/196 - 14s - loss: 0.0097 - accuracy: 0.9988 - val_loss: 0.5741 - val_accuracy: 0.8711 - 14s/epoch - 74ms/step\n",
      "Epoch 7/7\n",
      "196/196 - 14s - loss: 0.0022 - accuracy: 0.9999 - val_loss: 0.6617 - val_accuracy: 0.8725 - 14s/epoch - 73ms/step\n"
     ]
    },
    {
     "data": {
      "text/plain": [
       "<keras.callbacks.History at 0x209a3318f40>"
      ]
     },
     "execution_count": 14,
     "metadata": {},
     "output_type": "execute_result"
    }
   ],
   "source": [
    "model.fit(X_train, y_train, validation_data=(X_test, y_test), epochs=7, batch_size=128, verbose=2)"
   ]
  },
  {
   "cell_type": "code",
   "execution_count": 17,
   "id": "c539478d",
   "metadata": {},
   "outputs": [
    {
     "data": {
      "text/plain": [
       "[0.6617228984832764, 0.8725200295448303]"
      ]
     },
     "execution_count": 17,
     "metadata": {},
     "output_type": "execute_result"
    }
   ],
   "source": [
    "scores = model.evaluate(X_test, y_test, verbose=0)\n",
    "scores"
   ]
  },
  {
   "cell_type": "code",
   "execution_count": 18,
   "id": "d6d0ff19",
   "metadata": {},
   "outputs": [
    {
     "name": "stdout",
     "output_type": "stream",
     "text": [
      "Accuracy: 87.25%\n"
     ]
    }
   ],
   "source": [
    "# Displays the accuracy of correct sentiment prediction over test data\n",
    "print(\"Accuracy: %.2f%%\" % (scores[1]*100))"
   ]
  },
  {
   "cell_type": "markdown",
   "id": "eb7f61ff",
   "metadata": {},
   "source": [
    "# <span style=\"color:red\">@@@@@@@@@@@@ Ayad @@@@@@@@@@@@</span>"
   ]
  }
 ],
 "metadata": {
  "kernelspec": {
   "display_name": "Python 3 (ipykernel)",
   "language": "python",
   "name": "python3"
  },
  "language_info": {
   "codemirror_mode": {
    "name": "ipython",
    "version": 3
   },
   "file_extension": ".py",
   "mimetype": "text/x-python",
   "name": "python",
   "nbconvert_exporter": "python",
   "pygments_lexer": "ipython3",
   "version": "3.9.7"
  }
 },
 "nbformat": 4,
 "nbformat_minor": 5
}
