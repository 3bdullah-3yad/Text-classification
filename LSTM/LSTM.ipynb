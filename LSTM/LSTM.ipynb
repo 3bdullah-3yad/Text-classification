{
 "cells": [
  {
   "cell_type": "markdown",
   "id": "a6849368",
   "metadata": {},
   "source": [
    "# <span style=\"color:red\">@@@@@@@@@@@@ Ayad @@@@@@@@@@@@</span>"
   ]
  },
  {
   "cell_type": "markdown",
   "id": "2a1fef17",
   "metadata": {},
   "source": [
    "# <span style=\"color:chocolate\">=== Data ===</span>"
   ]
  },
  {
   "cell_type": "code",
   "execution_count": 25,
   "id": "61429b96",
   "metadata": {},
   "outputs": [
    {
     "data": {
      "text/html": [
       "<div>\n",
       "<style scoped>\n",
       "    .dataframe tbody tr th:only-of-type {\n",
       "        vertical-align: middle;\n",
       "    }\n",
       "\n",
       "    .dataframe tbody tr th {\n",
       "        vertical-align: top;\n",
       "    }\n",
       "\n",
       "    .dataframe thead th {\n",
       "        text-align: right;\n",
       "    }\n",
       "</style>\n",
       "<table border=\"1\" class=\"dataframe\">\n",
       "  <thead>\n",
       "    <tr style=\"text-align: right;\">\n",
       "      <th></th>\n",
       "      <th>category</th>\n",
       "      <th>text</th>\n",
       "    </tr>\n",
       "  </thead>\n",
       "  <tbody>\n",
       "    <tr>\n",
       "      <th>0</th>\n",
       "      <td>tech</td>\n",
       "      <td>tv future in the hands of viewers with home th...</td>\n",
       "    </tr>\n",
       "    <tr>\n",
       "      <th>1</th>\n",
       "      <td>business</td>\n",
       "      <td>worldcom boss  left books alone  former worldc...</td>\n",
       "    </tr>\n",
       "    <tr>\n",
       "      <th>2</th>\n",
       "      <td>sport</td>\n",
       "      <td>tigers wary of farrell  gamble  leicester say ...</td>\n",
       "    </tr>\n",
       "    <tr>\n",
       "      <th>3</th>\n",
       "      <td>sport</td>\n",
       "      <td>yeading face newcastle in fa cup premiership s...</td>\n",
       "    </tr>\n",
       "    <tr>\n",
       "      <th>4</th>\n",
       "      <td>entertainment</td>\n",
       "      <td>ocean s twelve raids box office ocean s twelve...</td>\n",
       "    </tr>\n",
       "    <tr>\n",
       "      <th>...</th>\n",
       "      <td>...</td>\n",
       "      <td>...</td>\n",
       "    </tr>\n",
       "    <tr>\n",
       "      <th>2220</th>\n",
       "      <td>business</td>\n",
       "      <td>cars pull down us retail figures us retail sal...</td>\n",
       "    </tr>\n",
       "    <tr>\n",
       "      <th>2221</th>\n",
       "      <td>politics</td>\n",
       "      <td>kilroy unveils immigration policy ex-chatshow ...</td>\n",
       "    </tr>\n",
       "    <tr>\n",
       "      <th>2222</th>\n",
       "      <td>entertainment</td>\n",
       "      <td>rem announce new glasgow concert us band rem h...</td>\n",
       "    </tr>\n",
       "    <tr>\n",
       "      <th>2223</th>\n",
       "      <td>politics</td>\n",
       "      <td>how political squabbles snowball it s become c...</td>\n",
       "    </tr>\n",
       "    <tr>\n",
       "      <th>2224</th>\n",
       "      <td>sport</td>\n",
       "      <td>souness delight at euro progress boss graeme s...</td>\n",
       "    </tr>\n",
       "  </tbody>\n",
       "</table>\n",
       "<p>2225 rows × 2 columns</p>\n",
       "</div>"
      ],
      "text/plain": [
       "           category                                               text\n",
       "0              tech  tv future in the hands of viewers with home th...\n",
       "1          business  worldcom boss  left books alone  former worldc...\n",
       "2             sport  tigers wary of farrell  gamble  leicester say ...\n",
       "3             sport  yeading face newcastle in fa cup premiership s...\n",
       "4     entertainment  ocean s twelve raids box office ocean s twelve...\n",
       "...             ...                                                ...\n",
       "2220       business  cars pull down us retail figures us retail sal...\n",
       "2221       politics  kilroy unveils immigration policy ex-chatshow ...\n",
       "2222  entertainment  rem announce new glasgow concert us band rem h...\n",
       "2223       politics  how political squabbles snowball it s become c...\n",
       "2224          sport  souness delight at euro progress boss graeme s...\n",
       "\n",
       "[2225 rows x 2 columns]"
      ]
     },
     "execution_count": 25,
     "metadata": {},
     "output_type": "execute_result"
    }
   ],
   "source": [
    "import pandas as pd\n",
    "\n",
    "file = pd.read_csv(r\"D:\\Projects\\NLP\\Text classification\\LSTM\\bbc.txt\")\n",
    "file"
   ]
  },
  {
   "cell_type": "code",
   "execution_count": 17,
   "id": "da94ce67",
   "metadata": {},
   "outputs": [],
   "source": [
    "from nltk.corpus import stopwords\n",
    "STOPWORDS = set(stopwords.words('english'))"
   ]
  },
  {
   "cell_type": "code",
   "execution_count": 35,
   "id": "8abba9bf",
   "metadata": {},
   "outputs": [],
   "source": [
    "articles = []\n",
    "labels   = []\n",
    "\n",
    "for row in file['category']:\n",
    "    labels.append(row)\n",
    "\n",
    "for row in file['text']:\n",
    "    for word in STOPWORDS:\n",
    "        token = ' ' + word + ' '\n",
    "        article = row.replace(token, ' ')\n",
    "    articles.append(article)"
   ]
  },
  {
   "cell_type": "code",
   "execution_count": 40,
   "id": "e01b1929",
   "metadata": {},
   "outputs": [],
   "source": [
    "train_size = int(len(articles) * 0.8)\n",
    "\n",
    "X_train = articles[0: train_size]\n",
    "y_train = labels  [0: train_size]\n",
    "\n",
    "X_test = articles[train_size:]\n",
    "y_test = labels  [train_size:]"
   ]
  },
  {
   "cell_type": "code",
   "execution_count": 41,
   "id": "50ffd388",
   "metadata": {},
   "outputs": [
    {
     "name": "stdout",
     "output_type": "stream",
     "text": [
      "train_articles 1780\n",
      "train_labels 1780\n",
      "validation_articles 445\n",
      "validation_labels 445\n"
     ]
    }
   ],
   "source": [
    "print('train_articles' ,len(train_articles))\n",
    "print('train_labels', len(train_labels))\n",
    "print('validation_articles', len(validation_articles))\n",
    "print('validation_labels', len(validation_labels))"
   ]
  },
  {
   "cell_type": "markdown",
   "id": "d9b43d1d",
   "metadata": {},
   "source": [
    "# <span style=\"color:chocolate\">=== Training data processing ===</span>"
   ]
  },
  {
   "cell_type": "code",
   "execution_count": 39,
   "id": "e38bf6e9",
   "metadata": {},
   "outputs": [],
   "source": [
    "from tensorflow.keras.preprocessing.text import Tokenizer"
   ]
  },
  {
   "cell_type": "code",
   "execution_count": 43,
   "id": "4409baf8",
   "metadata": {},
   "outputs": [
    {
     "data": {
      "text/plain": [
       "27299"
      ]
     },
     "execution_count": 43,
     "metadata": {},
     "output_type": "execute_result"
    }
   ],
   "source": [
    "tokenizer = Tokenizer(num_words = 5000, oov_token='<OOV>')\n",
    "\n",
    "tokenizer.fit_on_texts(X_train)\n",
    "\n",
    "len(tokenizer.word_index)"
   ]
  },
  {
   "cell_type": "code",
   "execution_count": 46,
   "id": "68699e85",
   "metadata": {},
   "outputs": [
    {
     "data": {
      "text/plain": [
       "1780"
      ]
     },
     "execution_count": 46,
     "metadata": {},
     "output_type": "execute_result"
    }
   ],
   "source": [
    "train_sequences = tokenizer.texts_to_sequences(X_train)\n",
    "len(train_sequences)"
   ]
  },
  {
   "cell_type": "code",
   "execution_count": 48,
   "id": "f75daa9a",
   "metadata": {},
   "outputs": [
    {
     "data": {
      "text/plain": [
       "397.4308988764045"
      ]
     },
     "execution_count": 48,
     "metadata": {},
     "output_type": "execute_result"
    }
   ],
   "source": [
    "lens = []\n",
    "\n",
    "for sent in train_sequences:\n",
    "    lens.append(len(sent))\n",
    "    \n",
    "sum(lens)/len(lens)"
   ]
  },
  {
   "cell_type": "code",
   "execution_count": 49,
   "id": "4baf80ab",
   "metadata": {},
   "outputs": [],
   "source": [
    "train_padded = pad_sequences(train_sequences, maxlen=397)"
   ]
  },
  {
   "cell_type": "code",
   "execution_count": 50,
   "id": "d7ae602a",
   "metadata": {},
   "outputs": [
    {
     "data": {
      "text/plain": [
       "(1780, 397)"
      ]
     },
     "execution_count": 50,
     "metadata": {},
     "output_type": "execute_result"
    }
   ],
   "source": [
    "train_padded.shape"
   ]
  },
  {
   "cell_type": "markdown",
   "id": "025aafb2",
   "metadata": {},
   "source": [
    "# <span style=\"color:chocolate\">=== Testing data processing ===</span>"
   ]
  },
  {
   "cell_type": "code",
   "execution_count": 52,
   "id": "13235b03",
   "metadata": {},
   "outputs": [],
   "source": [
    "validation_sequences = tokenizer.texts_to_sequences(X_test)\n",
    "validation_padded    = pad_sequences(validation_sequences, maxlen=397)"
   ]
  },
  {
   "cell_type": "code",
   "execution_count": 54,
   "id": "36136626",
   "metadata": {},
   "outputs": [
    {
     "data": {
      "text/plain": [
       "{'business', 'entertainment', 'politics', 'sport', 'tech'}"
      ]
     },
     "execution_count": 54,
     "metadata": {},
     "output_type": "execute_result"
    }
   ],
   "source": [
    "set(labels)"
   ]
  },
  {
   "cell_type": "code",
   "execution_count": 55,
   "id": "a64146ef",
   "metadata": {},
   "outputs": [],
   "source": [
    "label_tokenizer = Tokenizer()\n",
    "label_tokenizer.fit_on_texts(labels)\n",
    "\n",
    "y_train_seq = np.array(label_tokenizer.texts_to_sequences(train_labels))\n",
    "y_test_seq = np.array(label_tokenizer.texts_to_sequences(validation_labels))"
   ]
  },
  {
   "cell_type": "code",
   "execution_count": 56,
   "id": "dfbd32cc",
   "metadata": {},
   "outputs": [
    {
     "name": "stdout",
     "output_type": "stream",
     "text": [
      "Model: \"sequential_1\"\n",
      "_________________________________________________________________\n",
      " Layer (type)                Output Shape              Param #   \n",
      "=================================================================\n",
      " embedding_1 (Embedding)     (None, None, 64)          320000    \n",
      "                                                                 \n",
      " dropout_1 (Dropout)         (None, None, 64)          0         \n",
      "                                                                 \n",
      " bidirectional_1 (Bidirectio  (None, 128)              66048     \n",
      " nal)                                                            \n",
      "                                                                 \n",
      " dense_1 (Dense)             (None, 6)                 774       \n",
      "                                                                 \n",
      "=================================================================\n",
      "Total params: 386,822\n",
      "Trainable params: 386,822\n",
      "Non-trainable params: 0\n",
      "_________________________________________________________________\n"
     ]
    }
   ],
   "source": [
    "model = Sequential()\n",
    "model.add(Embedding(5000, 64))\n",
    "model.add(Dropout(0.5))\n",
    "model.add(Bidirectional(LSTM(64)))\n",
    "model.add(Dense(6, activation='softmax'))\n",
    "model.summary()"
   ]
  },
  {
   "cell_type": "code",
   "execution_count": 60,
   "id": "f57c6e2b",
   "metadata": {},
   "outputs": [],
   "source": [
    "model.compile(loss='sparse_categorical_crossentropy',\n",
    "              optimizer=tf.keras.optimizers.Adam(learning_rate=0.001), #, decay=1e-6\n",
    "              metrics=['accuracy'])"
   ]
  },
  {
   "cell_type": "code",
   "execution_count": 61,
   "id": "5897f800",
   "metadata": {},
   "outputs": [
    {
     "name": "stdout",
     "output_type": "stream",
     "text": [
      "Epoch 1/20\n",
      "56/56 - 15s - loss: 1.5057 - accuracy: 0.3185 - val_loss: 1.4795 - val_accuracy: 0.3730 - 15s/epoch - 265ms/step\n",
      "Epoch 2/20\n",
      "56/56 - 11s - loss: 1.3945 - accuracy: 0.4511 - val_loss: 1.4802 - val_accuracy: 0.4180 - 11s/epoch - 202ms/step\n",
      "Epoch 3/20\n",
      "56/56 - 11s - loss: 1.1548 - accuracy: 0.6258 - val_loss: 0.9760 - val_accuracy: 0.6270 - 11s/epoch - 198ms/step\n",
      "Epoch 4/20\n",
      "56/56 - 11s - loss: 0.8202 - accuracy: 0.6989 - val_loss: 1.0796 - val_accuracy: 0.5730 - 11s/epoch - 201ms/step\n",
      "Epoch 5/20\n",
      "56/56 - 12s - loss: 0.6611 - accuracy: 0.7792 - val_loss: 0.5767 - val_accuracy: 0.7910 - 12s/epoch - 217ms/step\n",
      "Epoch 6/20\n",
      "56/56 - 13s - loss: 0.3611 - accuracy: 0.8899 - val_loss: 0.4143 - val_accuracy: 0.8674 - 13s/epoch - 226ms/step\n",
      "Epoch 7/20\n",
      "56/56 - 11s - loss: 0.2511 - accuracy: 0.9292 - val_loss: 0.4037 - val_accuracy: 0.8539 - 11s/epoch - 202ms/step\n",
      "Epoch 8/20\n",
      "56/56 - 12s - loss: 0.2261 - accuracy: 0.9320 - val_loss: 0.6041 - val_accuracy: 0.7685 - 12s/epoch - 219ms/step\n",
      "Epoch 9/20\n",
      "56/56 - 11s - loss: 0.2902 - accuracy: 0.9219 - val_loss: 0.4522 - val_accuracy: 0.8472 - 11s/epoch - 205ms/step\n",
      "Epoch 10/20\n",
      "56/56 - 11s - loss: 0.1199 - accuracy: 0.9719 - val_loss: 0.4027 - val_accuracy: 0.8539 - 11s/epoch - 199ms/step\n",
      "Epoch 11/20\n",
      "56/56 - 11s - loss: 0.0695 - accuracy: 0.9865 - val_loss: 0.3144 - val_accuracy: 0.8944 - 11s/epoch - 202ms/step\n",
      "Epoch 12/20\n",
      "56/56 - 11s - loss: 0.0701 - accuracy: 0.9865 - val_loss: 0.4151 - val_accuracy: 0.8674 - 11s/epoch - 200ms/step\n",
      "Epoch 13/20\n",
      "56/56 - 11s - loss: 0.0557 - accuracy: 0.9904 - val_loss: 0.4033 - val_accuracy: 0.8966 - 11s/epoch - 200ms/step\n",
      "Epoch 14/20\n",
      "56/56 - 11s - loss: 0.0260 - accuracy: 0.9961 - val_loss: 0.3274 - val_accuracy: 0.9056 - 11s/epoch - 198ms/step\n",
      "Epoch 15/20\n",
      "56/56 - 11s - loss: 0.1232 - accuracy: 0.9691 - val_loss: 0.4107 - val_accuracy: 0.8652 - 11s/epoch - 196ms/step\n",
      "Epoch 16/20\n",
      "56/56 - 11s - loss: 0.0621 - accuracy: 0.9876 - val_loss: 0.3583 - val_accuracy: 0.8944 - 11s/epoch - 197ms/step\n",
      "Epoch 17/20\n",
      "56/56 - 11s - loss: 0.0182 - accuracy: 0.9989 - val_loss: 0.3041 - val_accuracy: 0.9169 - 11s/epoch - 197ms/step\n",
      "Epoch 18/20\n",
      "56/56 - 11s - loss: 0.0146 - accuracy: 0.9978 - val_loss: 0.3056 - val_accuracy: 0.9079 - 11s/epoch - 198ms/step\n",
      "Epoch 19/20\n",
      "56/56 - 11s - loss: 0.0078 - accuracy: 0.9989 - val_loss: 0.2893 - val_accuracy: 0.9191 - 11s/epoch - 198ms/step\n",
      "Epoch 20/20\n",
      "56/56 - 11s - loss: 0.0045 - accuracy: 1.0000 - val_loss: 0.3006 - val_accuracy: 0.9191 - 11s/epoch - 196ms/step\n"
     ]
    }
   ],
   "source": [
    "history = model.fit(train_padded,\n",
    "                    y_train_seq, epochs=20,\n",
    "                    validation_data=(validation_padded, y_test_seq), verbose=2)\n"
   ]
  },
  {
   "cell_type": "code",
   "execution_count": 62,
   "id": "065105c8",
   "metadata": {},
   "outputs": [
    {
     "data": {
      "image/png": "[encoded data removed]",
      "text/plain": [
       "<Figure size 432x288 with 1 Axes>"
      ]
     },
     "metadata": {
      "needs_background": "light"
     },
     "output_type": "display_data"
    }
   ],
   "source": [
    "plt.plot(history.history['accuracy'])\n",
    "plt.plot(history.history['val_accuracy'])\n",
    "\n",
    "plt.title('model accuracy')\n",
    "plt.ylabel('accuracy')\n",
    "plt.xlabel('epoch')\n",
    "\n",
    "plt.legend(['train', 'test'], loc='upper left')\n",
    "\n",
    "plt.show()"
   ]
  },
  {
   "cell_type": "code",
   "execution_count": 63,
   "id": "7a897bea",
   "metadata": {},
   "outputs": [
    {
     "data": {
      "image/png": "[encoded data removed]",
      "text/plain": [
       "<Figure size 432x288 with 1 Axes>"
      ]
     },
     "metadata": {
      "needs_background": "light"
     },
     "output_type": "display_data"
    }
   ],
   "source": [
    "plt.plot(history.history['loss'])\n",
    "plt.plot(history.history['val_loss'])\n",
    "\n",
    "plt.title('model loss')\n",
    "plt.ylabel('loss')\n",
    "plt.xlabel('epoch')\n",
    "\n",
    "plt.legend(['train', 'test'], loc='upper left')\n",
    "\n",
    "plt.show()"
   ]
  },
  {
   "cell_type": "code",
   "execution_count": 65,
   "id": "29f5b2d5",
   "metadata": {},
   "outputs": [
    {
     "name": "stdout",
     "output_type": "stream",
     "text": [
      "[[4.7082876e-06 5.3389178e-04 9.1694901e-04 9.9696761e-01 1.1643217e-03\n",
      "  4.1250017e-04]]\n",
      "\n",
      "3\n",
      "\n",
      "politics\n"
     ]
    }
   ],
   "source": [
    "txt = [\"blair prepares to name poll date tony blair is likely to name 5 may as election day when parliament returns from its easter break  the bbc s political editor has learned.  andrew marr says mr blair will ask the queen on 4 or 5 april to dissolve parliament at the end of that week. mr blair has so far resisted calls for him to name the day but all parties have stepped up campaigning recently. downing street would not be drawn on the claim  saying election timing was a matter for the prime minister.  a number 10 spokeswoman would only say:  he will announce an election when he wants to announce an election.  the move will signal a frantic week at westminster as the government is likely to try to get key legislation through parliament. the government needs its finance bill  covering the budget plans  to be passed before the commons closes for business at the end of the session on 7 april.  but it will also seek to push through its serious and organised crime bill and id cards bill. mr marr said on wednesday s today programme:  there s almost nobody at a senior level inside the government or in parliament itself who doesn t expect the election to be called on 4 or 5 april.  as soon as the commons is back after the short easter recess  tony blair whips up to the palace  asks the queen to dissolve parliament ... and we re going.  the labour government officially has until june 2006 to hold general election  but in recent years governments have favoured four-year terms.\"]\n",
    "\n",
    "seq = tokenizer.texts_to_sequences(txt)\n",
    "padded = pad_sequences(seq, maxlen=max_length)\n",
    "\n",
    "pred = model.predict(padded)\n",
    "labels = ['sport', 'bussiness', 'politics', 'tech', 'entertainment'] \n",
    "\n",
    "print(pred)\n",
    "print()\n",
    "print(np.argmax(pred))\n",
    "print()\n",
    "print(labels[np.argmax(pred)-1])"
   ]
  },
  {
   "cell_type": "code",
   "execution_count": 66,
   "id": "9c62ddd8",
   "metadata": {},
   "outputs": [
    {
     "name": "stdout",
     "output_type": "stream",
     "text": [
      "[[1.1743413e-04 3.4379951e-05 9.9769956e-01 1.0900525e-03 9.7633112e-04\n",
      "  8.2316525e-05]]\n",
      "\n",
      "2\n",
      "\n",
      "bussiness\n"
     ]
    }
   ],
   "source": [
    "txt = [\"call to save manufacturing jobs the trades union congress (tuc) is calling on the government to stem job losses in manufacturing firms by reviewing the help it gives companies.  the tuc said in its submission before the budget that action is needed because of 105 000 jobs lost from the sector over the last year. it calls for better pensions  child care provision and decent wages. the 36-page submission also urges the government to examine support other european countries provide to industry. tuc general secretary brendan barber called for  a commitment to policies that will make a real difference to the lives of working people.    greater investment in childcare strategies and the people delivering that childcare will increases the options available to working parents   he said.  a commitment to our public services and manufacturing sector ensures that we can continue to compete on a global level and deliver the frontline services that this country needs.  he also called for  practical measures  to help pensioners  especially women who he said  are most likely to retire in poverty . the submission also calls for decent wages and training for people working in the manufacturing sector.\"]\n",
    "\n",
    "seq = tokenizer.texts_to_sequences(txt)\n",
    "padded = pad_sequences(seq, maxlen=max_length)\n",
    "\n",
    "pred = model.predict(padded)\n",
    "labels = ['sport', 'bussiness', 'politics', 'tech', 'entertainment'] \n",
    "\n",
    "print(pred)\n",
    "print()\n",
    "print(np.argmax(pred))\n",
    "print()\n",
    "print(labels[np.argmax(pred)-1])"
   ]
  },
  {
   "cell_type": "markdown",
   "id": "10d47a5b",
   "metadata": {},
   "source": [
    "# <span style=\"color:red\">@@@@@@@@@@@@ Ayad @@@@@@@@@@@@</span>"
   ]
  }
 ],
 "metadata": {
  "kernelspec": {
   "display_name": "Python 3 (ipykernel)",
   "language": "python",
   "name": "python3"
  },
  "language_info": {
   "codemirror_mode": {
    "name": "ipython",
    "version": 3
   },
   "file_extension": ".py",
   "mimetype": "text/x-python",
   "name": "python",
   "nbconvert_exporter": "python",
   "pygments_lexer": "ipython3",
   "version": "3.9.7"
  }
 },
 "nbformat": 4,
 "nbformat_minor": 5
}
